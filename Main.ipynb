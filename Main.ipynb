{
 "cells": [
  {
   "cell_type": "code",
   "execution_count": 19,
   "metadata": {},
   "outputs": [
    {
     "name": "stdout",
     "output_type": "stream",
     "text": [
      "4 is not a prime number\n"
     ]
    }
   ],
   "source": [
    "num = int(input(\"Enter a value: \"))\n",
    "\n",
    "## AD-4-2\n",
    "\n",
    "if num == 0 or num == 1:\n",
    "    print(f'{num} is not a prime number')\n",
    "elif num > 1:\n",
    "    for i in range(2,num):\n",
    "        if num % 2 == 0:\n",
    "            print(f'{num} is not a prime number')\n",
    "            break\n",
    "    else:\n",
    "            print(f'{num} is a prime number')\n",
    "\n",
    "\n"
   ]
  }
 ],
 "metadata": {
  "kernelspec": {
   "display_name": "Python 3",
   "language": "python",
   "name": "python3"
  },
  "language_info": {
   "codemirror_mode": {
    "name": "ipython",
    "version": 3
   },
   "file_extension": ".py",
   "mimetype": "text/x-python",
   "name": "python",
   "nbconvert_exporter": "python",
   "pygments_lexer": "ipython3",
   "version": "3.12.7"
  }
 },
 "nbformat": 4,
 "nbformat_minor": 2
}
